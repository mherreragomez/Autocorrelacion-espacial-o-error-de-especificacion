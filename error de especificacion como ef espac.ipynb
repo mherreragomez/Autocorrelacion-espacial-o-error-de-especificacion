{
 "cells": [
  {
   "cell_type": "markdown",
   "metadata": {},
   "source": [
    "# Autocorrelación Espacial o Error de Especificación\n",
    "#### Autor: Marcos Herrera (mherregomez@gmail.com)"
   ]
  },
  {
   "cell_type": "markdown",
   "metadata": {},
   "source": [
    "Este ejercicio muestra que detectar autocorrelación espacial con determinados tests no implica que deba estimarse un modelo espacial ya que puede ser un problema de especificación. \n",
    "El ejercicio requiere una batería de tests: scripts de James LeSage (https://www.spatial-econometrics.com/) y Lagrange Multiplier Testing Suite, disponibles en la web de Donald Lacombe: http://myweb.ttu.edu/dolacomb/matlab.html.\n",
    "\n",
    "McMillen (2003,https://journals.sagepub.com/doi/10.1177/0160017602250977) supone un modelo urbano donde la densidad del empleo depende de la distancia al principal centro de negocios, existiendo además un sub-centro de negocios local.\n",
    "El modelo verdadero es $$ y_i = \\beta_0 + \\beta_1 DCBD_i +  \\beta_2 SUB_i + \\beta_3 DSUB_i, $$\n",
    "con $ y_i $ como el logaritmo de la densidad del empleo y siendo $ DCBD_i $ la distancia al principal centro de negocios de la ciudad. El subcentro de negocios de tipo local es capturado por la variable $ SUB_i $ que es una dummy para el centro local y $ DSUB_i $ que mide el impacto de la distancia en ese centro local. \n",
    "\n",
    "El experimento Monte Carlo genera los datos con este modelo verdadero, pero estima tres modelos diferentes: (1) el verdadero (correctamente especificado) con 4 coeficientes; y dos modelos subespecificados: (2) un modelo con 3 variables y (3) un modelo con 2 variables.\n",
    "\n",
    "Los residuos de estos tres modelos son utilizados para contrastar la presencia de autocorrelación espacial.\n",
    "Los tests espaciales usan una matriz de contactos por contigüidad usando la distancia en línea recta: cada observación tiene como vecino a 2 observaciones. Los resultados muestran que usar el I de Moran o los LM simples detectan erróneamente efectos espaciales. Pero si se usan los tests LM robustos es posible que no se detecten efectos espaciales erróneamente omitidos. Sin embargo, los tests robustos no evitan separar completamente los errores de especificación de la autocorrelación espacial."
   ]
  },
  {
   "cell_type": "markdown",
   "metadata": {},
   "source": [
    "### Parámetros del Monte Carlo"
   ]
  },
  {
   "cell_type": "code",
   "execution_count": 42,
   "metadata": {},
   "outputs": [
    {
     "name": "stdout",
     "output_type": "stream",
     "text": [
      "\n"
     ]
    },
    {
     "data": {
      "image/png": "[encoded data removed]",
      "text/plain": [
       "<IPython.core.display.Image object>"
      ]
     },
     "metadata": {},
     "output_type": "display_data"
    }
   ],
   "source": [
    "n = 1000; b0 = 1.5; b1 = -0.05; b2 = -0.15; b3 = 0.9;\n",
    "x = [-50:0.1001:50]';\n",
    "DCBD = abs(x);\n",
    "log_employ_dens0 = 1.5 - 0.05*DCBD;\n",
    "SUB = zeros(length(x),1);\n",
    "for i = 1:length(x);\n",
    "    if x(i)>-36\n",
    "        if x(i)<-30\n",
    "            SUB(i,1)= 1;\n",
    "        end;\n",
    "    end;\n",
    "end\n",
    "DSUB = SUB.*abs(-30-x);\n",
    "log_employ_dens = 1.5-0.05*DCBD-0.15*DSUB+0.9*SUB;\n",
    "plot(x, log_employ_dens); xlabel('distancia'); ylabel('log densidad del empleo')"
   ]
  },
  {
   "cell_type": "code",
   "execution_count": 13,
   "metadata": {},
   "outputs": [
    {
     "name": "stdout",
     "output_type": "stream",
     "text": [
      "\n"
     ]
    }
   ],
   "source": [
    "XX = [ones(n,1) DCBD DSUB SUB]; \n",
    "betas = [b0 b1 b2 b3]';\n",
    "sd_u = sqrt(var(XX*betas)/4);"
   ]
  },
  {
   "cell_type": "code",
   "execution_count": 14,
   "metadata": {},
   "outputs": [
    {
     "name": "stdout",
     "output_type": "stream",
     "text": [
      "\n"
     ]
    }
   ],
   "source": [
    "Wbin = zeros(n);\n",
    "for i = 1:n;\n",
    "    for j = 1:n;\n",
    "        if (abs(i-j)==1)\n",
    "            Wbin(i,j)=1;\n",
    "        end;\n",
    "    end;\n",
    "end;\n",
    "W = normw(Wbin);"
   ]
  },
  {
   "cell_type": "code",
   "execution_count": 17,
   "metadata": {},
   "outputs": [
    {
     "name": "stdout",
     "output_type": "stream",
     "text": [
      "Elapsed time is 181.725565 seconds.\n",
      "\n"
     ]
    }
   ],
   "source": [
    "MC = [];\n",
    "count = 0;\n",
    "reps = 100;\n",
    "sistem = XX*betas; \n",
    "tic\n",
    "for xx=0:2;\n",
    "    X = XX(:,1:(4-xx));\n",
    "    for i=1:reps\n",
    "        u = normrnd(0,sd_u,[1,n])';\n",
    "        y = sistem + u;\n",
    "        count = count+1;\n",
    "        res1 = moran(y,X,W);\n",
    "        res2 = lmlag(y,X,W);\n",
    "        res3 = lmlag_robust(y,X,W);\n",
    "        res4 = lmerror(y,X,W);\n",
    "        res5 = lmerror_robust(y,X,W);\n",
    "        res6 = ols(y,X);\n",
    "        s = size(X,2);\n",
    "        MC(count,1) = s;\n",
    "        MC(count,2) = res1.prob;\n",
    "        MC(count,3) = res2.prob;\n",
    "        MC(count,4) = res3.prob;\n",
    "        MC(count,5) = res4.prob;\n",
    "        MC(count,6) = res5.prob;\n",
    "        MC(count,7) = res6.rsqr;\n",
    "    end;\n",
    "end;\n",
    "toc"
   ]
  },
  {
   "cell_type": "code",
   "execution_count": 43,
   "metadata": {},
   "outputs": [
    {
     "name": "stdout",
     "output_type": "stream",
     "text": [
      "___________________________________________\n",
      "          Tabla de McMillen (2003) \n",
      "     Pctje rechazo: H0 no-autocor. esp.\n",
      "-------------------------------------------\n",
      "       Model  k   I Moran   LMerror \n",
      "       True   4   03.00     04.00\n",
      "       Miss1  3   69.00     64.00\n",
      "       Miss2  2   87.00     87.00\n",
      "___________________________________________\n",
      "\n",
      "\n",
      "_________________________________________________________\n",
      "      Tabla de McMillen ampliada a tests robustos \n",
      " Porcentaje de rechazo: H0 no-autocorrelación espacial \n",
      "---------------------------------------------------------\n",
      "Model  k   I Moran   LMlag    RLMlag   LMerror   RLMerror \n",
      "True   4   03.00     04.00    06.00    04.00     05.00\n",
      "Miss1  3   69.00     65.00    13.00    64.00     13.00\n",
      "Miss2  2   87.00     87.00    02.00    87.00     02.00\n",
      "_________________________________________________________\n",
      "\n",
      "\n"
     ]
    }
   ],
   "source": [
    "% Pct rechazo modelo correcto\n",
    "B=MC(any(MC==4,2),:);\n",
    "BB=mean(B(:,2:6)<0.05).*100;\n",
    "\n",
    "% Pct rechazo modelo Mal-especificado 1: 3 X's (const,DCBD,DSUB) \n",
    "C=MC(any(MC==3,2),:);\n",
    "CC=mean(C(:,2:6)<0.05).*100;\n",
    "\n",
    "% Pct rechazo Misspecified model 2: 2 X's (const,DCBD)\n",
    "% Modelo usado en McMillen (2003)\n",
    "D=MC(any(MC==2,2),:);\n",
    "DD=mean(D(:,2:6)<0.05).*100;\n",
    "fprintf('___________________________________________\\n')\n",
    "fprintf('          Tabla de McMillen (2003) \\n')\n",
    "fprintf('     Pctje rechazo: H0 no-autocor. esp.\\n')\n",
    "fprintf('-------------------------------------------\\n')\n",
    "fprintf('       Model  k   I Moran   LMerror \\n');\n",
    "fprintf('       True   4   %05.2f     %05.2f\\n', [BB(1) BB(4)]);\n",
    "fprintf('       Miss1  3   %05.2f     %05.2f\\n', [CC(1) CC(4)]);\n",
    "fprintf('       Miss2  2   %05.2f     %05.2f\\n', [DD(1) DD(4)]);\n",
    "fprintf('___________________________________________\\n')\n",
    "fprintf('\\n')\n",
    "fprintf('\\n')\n",
    "fprintf('_________________________________________________________\\n')\n",
    "fprintf('      Tabla de McMillen ampliada a tests robustos \\n')\n",
    "fprintf(' Porcentaje de rechazo: H0 no-autocorrelación espacial \\n')\n",
    "fprintf('---------------------------------------------------------\\n')\n",
    "fprintf('Model  k   I Moran   LMlag    RLMlag   LMerror   RLMerror \\n');\n",
    "fprintf('True   4   %05.2f     %05.2f    %05.2f    %05.2f     %05.2f\\n', BB);\n",
    "fprintf('Miss1  3   %05.2f     %05.2f    %05.2f    %05.2f     %05.2f\\n', CC);\n",
    "fprintf('Miss2  2   %05.2f     %05.2f    %05.2f    %05.2f     %05.2f\\n', DD);\n",
    "fprintf('_________________________________________________________\\n')\n",
    "fprintf('\\n')\n"
   ]
  }
 ],
 "metadata": {
  "kernelspec": {
   "display_name": "Matlab",
   "language": "matlab",
   "name": "matlab"
  },
  "language_info": {
   "codemirror_mode": "octave",
   "file_extension": ".m",
   "help_links": [
    {
     "text": "MetaKernel Magics",
     "url": "https://metakernel.readthedocs.io/en/latest/source/README.html"
    }
   ],
   "mimetype": "text/x-octave",
   "name": "matlab",
   "version": "0.16.7"
  }
 },
 "nbformat": 4,
 "nbformat_minor": 2
}
